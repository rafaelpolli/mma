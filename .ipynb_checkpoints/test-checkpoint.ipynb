{
 "cells": [
  {
   "cell_type": "code",
   "execution_count": null,
   "id": "bb326662-650d-4860-a317-65c5f54ec0c5",
   "metadata": {
    "tags": []
   },
   "outputs": [],
   "source": [
    "import os\n",
    "os.environ[\"OPENAI_API_KEY\"] = \"bla\"\n",
    "\n",
    "os.environ[\"MODEL\"] = \"gpt-4-1106-preview\"\n",
    "\n",
    "os.environ[\"WORKING_DIRECTORY\"] = os.getcwd() + '/files'"
   ]
  },
  {
   "cell_type": "code",
   "execution_count": null,
   "id": "9df67f78-4540-4f6d-bff1-ead33efc3706",
   "metadata": {
    "tags": []
   },
   "outputs": [],
   "source": [
    "from hma.utils import *\n",
    "import hma.research as research\n",
    "import hma.writer as writer\n",
    "import hma.coordinator as coordinator"
   ]
  },
  {
   "cell_type": "code",
   "execution_count": null,
   "id": "406d5f97-2ed9-4b43-b9d4-08ed8a540231",
   "metadata": {
    "tags": []
   },
   "outputs": [],
   "source": [
    "vector_store_init(persist_directory = \"data\",\n",
    "                        collection_name = \"gdp\",\n",
    "                        doc = \"content.txt\")"
   ]
  },
  {
   "cell_type": "code",
   "execution_count": null,
   "id": "b120494e-973c-455c-8d1c-f92585f3e0b1",
   "metadata": {
    "tags": []
   },
   "outputs": [],
   "source": [
    "research_team = research.Research()"
   ]
  },
  {
   "cell_type": "code",
   "execution_count": null,
   "id": "3785c16b-83ef-4a11-a815-383d390f66ee",
   "metadata": {
    "tags": []
   },
   "outputs": [],
   "source": [
    "from IPython.display import Image, display\n",
    "\n",
    "display(Image(research_team.chain.get_graph(xray=True).draw_mermaid_png()))"
   ]
  },
  {
   "cell_type": "code",
   "execution_count": null,
   "id": "49f68d10-1148-48f8-acd4-5f24886d8fcd",
   "metadata": {
    "tags": []
   },
   "outputs": [],
   "source": [
    "#for s in research_team.research_chain.stream(\n",
    "#    \"when is Taylor Swift's next tour?\", {\"recursion_limit\": 100}\n",
    "#):\n",
    "#    if \"__end__\" not in s:\n",
    "#        print(s)\n",
    "#        print(\"---\")"
   ]
  },
  {
   "cell_type": "code",
   "execution_count": null,
   "id": "494de471-5a5a-41e3-b10b-a397c8d429b3",
   "metadata": {},
   "outputs": [],
   "source": [
    "writer_team = writer.Writer()"
   ]
  },
  {
   "cell_type": "code",
   "execution_count": null,
   "id": "e0e0af54-84d8-4784-9eb4-9ac4b42796ec",
   "metadata": {
    "tags": []
   },
   "outputs": [],
   "source": [
    "from IPython.display import Image, display\n",
    "\n",
    "display(Image(writer_team.chain.get_graph().draw_mermaid_png()))"
   ]
  },
  {
   "cell_type": "code",
   "execution_count": null,
   "id": "5aa6e5b2-7576-4ed4-837e-ddb23848252f",
   "metadata": {
    "tags": []
   },
   "outputs": [],
   "source": [
    "#for s in writer_team.authoring_chain.stream(\n",
    "#    \"Write an outline for poem and then write the poem to disk.\",\n",
    "#    {\"recursion_limit\": 100},\n",
    "#):\n",
    "#    if \"__end__\" not in s:\n",
    "#        print(s)\n",
    "#        print(\"---\")"
   ]
  },
  {
   "cell_type": "code",
   "execution_count": null,
   "id": "37421b0a-db4c-4164-9412-8402c7b23c12",
   "metadata": {},
   "outputs": [],
   "source": [
    "main_coordinator = coordinator.Coordinator()"
   ]
  },
  {
   "cell_type": "code",
   "execution_count": null,
   "id": "13596ee5-b47b-4a32-8798-bb5fb4aa57a9",
   "metadata": {
    "tags": []
   },
   "outputs": [],
   "source": [
    "from IPython.display import Image, display\n",
    "\n",
    "display(Image(main_coordinator.super_graph.get_graph().draw_mermaid_png()))"
   ]
  },
  {
   "cell_type": "code",
   "execution_count": null,
   "id": "879c4e11-b2a9-4624-94ee-70bd7e950f89",
   "metadata": {
    "tags": []
   },
   "outputs": [],
   "source": [
    "for s in main_coordinator.super_graph.stream(\n",
    "    {\n",
    "        \"messages\": [\n",
    "            HumanMessage(\n",
    "                content=\"Write a brief research report on the North American sturgeon.\"\n",
    "            )\n",
    "        ],\n",
    "    },\n",
    "    {\"recursion_limit\": 150},\n",
    "):\n",
    "    if \"__end__\" not in s:\n",
    "        print(s)\n",
    "        print(\"---\")"
   ]
  },
  {
   "cell_type": "code",
   "execution_count": null,
   "id": "131785e8-90e4-4bb0-ab18-df081b0d74fe",
   "metadata": {},
   "outputs": [],
   "source": []
  },
  {
   "cell_type": "code",
   "execution_count": null,
   "id": "8c4b78a1-ce7f-4969-b5c7-d7f7db52636e",
   "metadata": {},
   "outputs": [],
   "source": []
  },
  {
   "cell_type": "code",
   "execution_count": null,
   "id": "6a5b762a-e434-4c1b-896f-c9e4f534114c",
   "metadata": {},
   "outputs": [],
   "source": []
  }
 ],
 "metadata": {
  "kernelspec": {
   "display_name": ".conda-custom_python:Python",
   "language": "python",
   "name": "conda-env-.conda-custom_python-py"
  },
  "language_info": {
   "codemirror_mode": {
    "name": "ipython",
    "version": 3
   },
   "file_extension": ".py",
   "mimetype": "text/x-python",
   "name": "python",
   "nbconvert_exporter": "python",
   "pygments_lexer": "ipython3",
   "version": "3.11.0"
  }
 },
 "nbformat": 4,
 "nbformat_minor": 5
}
