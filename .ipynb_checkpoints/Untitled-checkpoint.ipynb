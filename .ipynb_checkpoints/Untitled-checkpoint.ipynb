{
 "cells": [
  {
   "cell_type": "code",
   "execution_count": 2,
   "id": "d542b2cc-ffce-438f-81fe-f697d00bba50",
   "metadata": {
    "tags": []
   },
   "outputs": [
    {
     "name": "stdout",
     "output_type": "stream",
     "text": [
      "Collecting HTMLParser\n",
      "  Downloading HTMLParser-0.0.2.tar.gz (6.0 kB)\n",
      "  Preparing metadata (setup.py) ... \u001b[?25ldone\n",
      "\u001b[?25hBuilding wheels for collected packages: HTMLParser\n",
      "  Building wheel for HTMLParser (setup.py) ... \u001b[?25ldone\n",
      "\u001b[?25h  Created wheel for HTMLParser: filename=HTMLParser-0.0.2-py3-none-any.whl size=5981 sha256=fc2ae3788193af21743e40d5a5424994a157e7c782eec63beaa073bb3f5b159c\n",
      "  Stored in directory: /home/studio-lab-user/.cache/pip/wheels/a4/3b/1a/c6cf6093dcb4a243bebf253c48acd3ffa93c8c48685a4fbb05\n",
      "Successfully built HTMLParser\n",
      "Installing collected packages: HTMLParser\n",
      "Successfully installed HTMLParser-0.0.2\n"
     ]
    }
   ],
   "source": [
    "!pip install HTMLParser"
   ]
  },
  {
   "cell_type": "code",
   "execution_count": 5,
   "id": "2e7e05d3-d69f-487a-b5a4-606656318063",
   "metadata": {
    "tags": []
   },
   "outputs": [],
   "source": [
    "import html"
   ]
  },
  {
   "cell_type": "code",
   "execution_count": 8,
   "id": "4fcd19f9-f66b-43e8-8905-233eca1530b8",
   "metadata": {
    "tags": []
   },
   "outputs": [
    {
     "data": {
      "text/plain": [
       "'🗻'"
      ]
     },
     "execution_count": 8,
     "metadata": {},
     "output_type": "execute_result"
    }
   ],
   "source": [
    "html.unescape('&#128507;')"
   ]
  },
  {
   "cell_type": "code",
   "execution_count": null,
   "id": "826c43d2-24e8-4214-bfec-a6ef3ce705a2",
   "metadata": {},
   "outputs": [],
   "source": [
    "import html\n",
    "\n",
    "def string_to_html_entities(input_string):\n",
    "    # Initialize an empty list to store the converted characters\n",
    "    result = []\n",
    "    \n",
    "    for char in input_string:\n",
    "        # Check if the character is an emoji or symbol\n",
    "        if ord(char) > 127:\n",
    "            # Convert the character to its corresponding HTML entity\n",
    "            result.append(f\"&#{ord(char)};\")\n",
    "        else:\n",
    "            # If it's a normal character, just append it\n",
    "            result.append(char)\n",
    "    \n",
    "    # Join the list into a single string and return it\n",
    "    return ''.join(result)\n",
    "\n",
    "# Example usage\n",
    "input_string = \"This is 🗻\"\n",
    "output_string = string_to_html_entities(input_string)\n",
    "print(output_string)\n"
   ]
  }
 ],
 "metadata": {
  "kernelspec": {
   "display_name": ".conda-multiagent:Python",
   "language": "python",
   "name": "conda-env-.conda-multiagent-py"
  },
  "language_info": {
   "codemirror_mode": {
    "name": "ipython",
    "version": 3
   },
   "file_extension": ".py",
   "mimetype": "text/x-python",
   "name": "python",
   "nbconvert_exporter": "python",
   "pygments_lexer": "ipython3",
   "version": "3.11.0"
  }
 },
 "nbformat": 4,
 "nbformat_minor": 5
}
