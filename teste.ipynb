{
 "cells": [
  {
   "cell_type": "code",
   "execution_count": 1,
   "id": "3a7993b4-6a4b-4e1f-90fc-09b719dd6736",
   "metadata": {
    "tags": []
   },
   "outputs": [],
   "source": [
    "%%capture --no-stderr\n",
    "%pip install -U langgraph langchain langchain_openai langchain_experimental bs4 lxml BeatifulSoup"
   ]
  },
  {
   "cell_type": "code",
   "execution_count": 2,
   "id": "6823f799-6273-4452-a91c-0b03fff2e9cc",
   "metadata": {
    "tags": []
   },
   "outputs": [],
   "source": [
    "import os\n",
    "import chromadb\n",
    "from langchain_openai.chat_models import ChatOpenAI\n",
    "import functools\n",
    "from langgraph.graph import END, StateGraph, START\n",
    "from langchain_core.messages import AIMessage, BaseMessage, HumanMessage \n",
    "from typing import Annotated, List\n",
    "\n",
    "\n",
    "os.environ[\"OPENAI_API_KEY\"] = \"bla\"\n",
    "#os.environ[\"PERSIST_DIRECTORY\"] = \"data\"\n",
    "#os.environ[\"COLLECTION_NAME\"] = \"gdp\""
   ]
  },
  {
   "cell_type": "code",
   "execution_count": 3,
   "id": "2e3bbaef-b892-4816-bf94-10d0d258a8e0",
   "metadata": {
    "tags": []
   },
   "outputs": [],
   "source": [
    "from multi_agent import vector_store_init, create_agent, chromadb_search, query_on_google, agent_node, create_team_supervisor, ResearchTeamState, write_document, edit_document, read_document, create_outline, read_document, prelude, DocWritingState, State, get_last_message, join_graph "
   ]
  },
  {
   "cell_type": "code",
   "execution_count": 4,
   "id": "5f280841-c260-4b5c-97c1-0715a532e632",
   "metadata": {
    "tags": []
   },
   "outputs": [
    {
     "name": "stderr",
     "output_type": "stream",
     "text": [
      "/home/studio-lab-user/.conda/envs/custom_python/lib/python3.11/site-packages/langchain_core/_api/deprecation.py:139: LangChainDeprecationWarning: The class `OpenAIEmbeddings` was deprecated in LangChain 0.0.9 and will be removed in 0.3.0. An updated version of the class exists in the langchain-openai package and should be used instead. To use it run `pip install -U langchain-openai` and import as `from langchain_openai import OpenAIEmbeddings`.\n",
      "  warn_deprecated(\n",
      "/home/studio-lab-user/.conda/envs/custom_python/lib/python3.11/site-packages/langchain_core/_api/deprecation.py:139: LangChainDeprecationWarning: The class `Chroma` was deprecated in LangChain 0.2.9 and will be removed in 0.4. An updated version of the class exists in the langchain-chroma package and should be used instead. To use it run `pip install -U langchain-chroma` and import as `from langchain_chroma import Chroma`.\n",
      "  warn_deprecated(\n",
      "/home/studio-lab-user/.conda/envs/custom_python/lib/python3.11/site-packages/langchain_core/_api/deprecation.py:139: LangChainDeprecationWarning: Since Chroma 0.4.x the manual persistence method is no longer supported as docs are automatically persisted.\n",
      "  warn_deprecated(\n"
     ]
    }
   ],
   "source": [
    "vector_store_init(persist_directory = \"data\",\n",
    "                        collection_name = \"gdp\",\n",
    "                        doc = \"content.txt\")"
   ]
  },
  {
   "cell_type": "code",
   "execution_count": 5,
   "id": "d33651f1-4d03-4b3b-a412-816d59db693e",
   "metadata": {
    "tags": []
   },
   "outputs": [],
   "source": [
    "llm = ChatOpenAI(model=\"gpt-4-1106-preview\")"
   ]
  },
  {
   "cell_type": "code",
   "execution_count": 6,
   "id": "5de5537a-62a3-4cc9-859d-d1f3b809d69b",
   "metadata": {
    "tags": []
   },
   "outputs": [],
   "source": [
    "search_agent = create_agent(\n",
    "    llm,\n",
    "    [chromadb_search],\n",
    "    \"You are a research assistant who can search for up-to-date info using the chromadb search engine.\",\n",
    ")\n",
    "\n",
    "search_node = functools.partial(agent_node, agent=search_agent, name=\"Search\")"
   ]
  },
  {
   "cell_type": "code",
   "execution_count": 7,
   "id": "f302e83a-2dc7-446a-88bb-9f4a17dd7055",
   "metadata": {},
   "outputs": [],
   "source": [
    "research_agent = create_agent(\n",
    "    llm,\n",
    "    [query_on_google],\n",
    "    \"You are a research assistant who can scrape specified urls for more detailed information using the query_on_google function.\",\n",
    ")\n",
    "research_node = functools.partial(agent_node, agent=research_agent, name=\"WebScraper\")"
   ]
  },
  {
   "cell_type": "code",
   "execution_count": 8,
   "id": "0f75414d-ca1e-4035-87d6-d0f6fc7a1315",
   "metadata": {
    "tags": []
   },
   "outputs": [],
   "source": [
    "supervisor_agent = create_team_supervisor(\n",
    "    llm,\n",
    "    \"You are a supervisor tasked with managing a conversation between the\"\n",
    "    \" following workers:  Search, WebScraper. Given the following user request,\"\n",
    "    \" respond with the worker to act next. Each worker will perform a\"\n",
    "    \" task and respond with their results and status. When finished,\"\n",
    "    \" respond with FINISH.\",\n",
    "    [\"Search\", \"WebScraper\"],\n",
    ")"
   ]
  },
  {
   "cell_type": "code",
   "execution_count": 9,
   "id": "fc1c6799-ac41-4279-b944-af14ec800009",
   "metadata": {
    "tags": []
   },
   "outputs": [],
   "source": [
    "research_graph = StateGraph(ResearchTeamState)\n",
    "research_graph.add_node(\"Search\", search_node)\n",
    "research_graph.add_node(\"WebScraper\", research_node)\n",
    "research_graph.add_node(\"supervisor\", supervisor_agent)\n",
    "\n",
    "# Define the control flow\n",
    "research_graph.add_edge(\"Search\", \"supervisor\")\n",
    "research_graph.add_edge(\"WebScraper\", \"supervisor\")\n",
    "research_graph.add_conditional_edges(\n",
    "    \"supervisor\",\n",
    "    lambda x: x[\"next\"],\n",
    "    {\"Search\": \"Search\", \"WebScraper\": \"WebScraper\", \"FINISH\": END},\n",
    ")\n",
    "\n",
    "\n",
    "research_graph.add_edge(START, \"supervisor\")\n",
    "chain = research_graph.compile()\n",
    "\n",
    "\n",
    "# The following functions interoperate between the top level graph state\n",
    "# and the state of the research sub-graph\n",
    "# this makes it so that the states of each graph don't get intermixed\n",
    "def enter_chain(message: str):\n",
    "    results = {\n",
    "        \"messages\": [HumanMessage(content=message)],\n",
    "    }\n",
    "    return results\n",
    "\n",
    "\n",
    "research_chain = enter_chain | chain"
   ]
  },
  {
   "cell_type": "code",
   "execution_count": 10,
   "id": "389db443-68ac-4410-901f-612546c27708",
   "metadata": {
    "tags": []
   },
   "outputs": [
    {
     "data": {
      "image/jpeg": "[encoded data removed]",
      "text/plain": [
       "<IPython.core.display.Image object>"
      ]
     },
     "metadata": {},
     "output_type": "display_data"
    }
   ],
   "source": [
    "from IPython.display import Image, display\n",
    "\n",
    "display(Image(chain.get_graph(xray=True).draw_mermaid_png()))"
   ]
  },
  {
   "cell_type": "code",
   "execution_count": 11,
   "id": "2132de5d-8175-45ee-95d0-2a38a6ddc66b",
   "metadata": {
    "tags": []
   },
   "outputs": [
    {
     "name": "stdout",
     "output_type": "stream",
     "text": [
      "{'supervisor': {'next': 'Search'}}\n",
      "---\n",
      "{'Search': {'messages': [HumanMessage(content='I apologize, but the search results provided do not seem to be relevant to the query \"minhas vantagens\" (my advantages). It appears there may have been a misunderstanding or a lack of relevant documents in the database. If you\\'re looking for information on personal advantages or benefits in a specific context, please provide more details or clarify your query so I can assist you more effectively.', name='Search')]}}\n",
      "---\n",
      "{'supervisor': {'next': 'FINISH'}}\n",
      "---\n"
     ]
    }
   ],
   "source": [
    "for s in research_chain.stream(\n",
    "    \"what is minhas vantagens?\", {\"recursion_limit\": 100}\n",
    "):\n",
    "    if \"__end__\" not in s:\n",
    "        print(s)\n",
    "        print(\"---\")"
   ]
  },
  {
   "cell_type": "code",
   "execution_count": 12,
   "id": "8c6d4bb3-a435-418e-89bf-3bd67e61b0bd",
   "metadata": {
    "tags": []
   },
   "outputs": [],
   "source": [
    "doc_writer_agent = create_agent(\n",
    "    llm,\n",
    "    [write_document, edit_document, read_document],\n",
    "    \"You are an expert writing a research document.\\n\"\n",
    "    # The {current_files} value is populated automatically by the graph state\n",
    "    \"Below are files currently in your directory:\\n{current_files}\",\n",
    ")\n",
    "# Injects current directory working state before each call\n",
    "context_aware_doc_writer_agent = prelude | doc_writer_agent\n",
    "doc_writing_node = functools.partial(\n",
    "    agent_node, agent=context_aware_doc_writer_agent, name=\"DocWriter\"\n",
    ")\n",
    "\n",
    "note_taking_agent = create_agent(\n",
    "    llm,\n",
    "    [create_outline, read_document],\n",
    "    \"You are an expert senior researcher tasked with writing a paper outline and\"\n",
    "    \" taking notes to craft a perfect paper.{current_files}\",\n",
    ")\n",
    "context_aware_note_taking_agent = prelude | note_taking_agent\n",
    "note_taking_node = functools.partial(\n",
    "    agent_node, agent=context_aware_note_taking_agent, name=\"NoteTaker\"\n",
    ")\n",
    "\n",
    "#chart_generating_agent = create_agent(\n",
    "#    llm,\n",
    "#    [read_document, python_repl],\n",
    "#    \"You are a data viz expert tasked with generating charts for a research project.\"\n",
    "#    \"{current_files}\",\n",
    "#)\n",
    "#context_aware_chart_generating_agent = prelude | chart_generating_agent\n",
    "#chart_generating_node = functools.partial(\n",
    "#    agent_node, agent=context_aware_note_taking_agent, name=\"ChartGenerator\"\n",
    "#)\n",
    "\n",
    "doc_writing_supervisor = create_team_supervisor(\n",
    "    llm,\n",
    "    \"You are a supervisor tasked with managing a conversation between the\"\n",
    "    \" following workers:  {team_members}. Given the following user request,\"\n",
    "    \" respond with the worker to act next. Each worker will perform a\"\n",
    "    \" task and respond with their results and status. When finished,\"\n",
    "    \" respond with FINISH.\",\n",
    "    [\"DocWriter\", \"NoteTaker\", \"ChartGenerator\"],\n",
    ")"
   ]
  },
  {
   "cell_type": "code",
   "execution_count": 13,
   "id": "07d8667d-4ead-4ada-85a4-bd2cc7e75097",
   "metadata": {
    "tags": []
   },
   "outputs": [],
   "source": [
    "# Create the graph here:\n",
    "# Note that we have unrolled the loop for the sake of this doc\n",
    "authoring_graph = StateGraph(DocWritingState)\n",
    "authoring_graph.add_node(\"DocWriter\", doc_writing_node)\n",
    "authoring_graph.add_node(\"NoteTaker\", note_taking_node)\n",
    "authoring_graph.add_node(\"supervisor\", doc_writing_supervisor)\n",
    "\n",
    "# Add the edges that always occur\n",
    "authoring_graph.add_edge(\"DocWriter\", \"supervisor\")\n",
    "authoring_graph.add_edge(\"NoteTaker\", \"supervisor\")\n",
    "\n",
    "# Add the edges where routing applies\n",
    "authoring_graph.add_conditional_edges(\n",
    "    \"supervisor\",\n",
    "    lambda x: x[\"next\"],\n",
    "    {\n",
    "        \"DocWriter\": \"DocWriter\",\n",
    "        \"NoteTaker\": \"NoteTaker\",\n",
    "        \"FINISH\": END,\n",
    "    },\n",
    ")\n",
    "\n",
    "authoring_graph.add_edge(START, \"supervisor\")\n",
    "chain = authoring_graph.compile()\n",
    "\n",
    "\n",
    "# The following functions interoperate between the top level graph state\n",
    "# and the state of the research sub-graph\n",
    "# this makes it so that the states of each graph don't get intermixed\n",
    "def enter_chain(message: str, members: List[str]):\n",
    "    results = {\n",
    "        \"messages\": [HumanMessage(content=message)],\n",
    "        \"team_members\": \", \".join(members),\n",
    "    }\n",
    "    return results\n",
    "\n",
    "\n",
    "# We reuse the enter/exit functions to wrap the graph\n",
    "authoring_chain = (\n",
    "    functools.partial(enter_chain, members=authoring_graph.nodes)\n",
    "    | authoring_graph.compile()\n",
    ")"
   ]
  },
  {
   "cell_type": "code",
   "execution_count": 14,
   "id": "06d0fe12-53ec-4dab-a515-533838915f1f",
   "metadata": {
    "tags": []
   },
   "outputs": [
    {
     "data": {
      "image/jpeg": "[encoded data removed]",
      "text/plain": [
       "<IPython.core.display.Image object>"
      ]
     },
     "metadata": {},
     "output_type": "display_data"
    }
   ],
   "source": [
    "from IPython.display import Image, display\n",
    "\n",
    "display(Image(chain.get_graph().draw_mermaid_png()))"
   ]
  },
  {
   "cell_type": "code",
   "execution_count": 15,
   "id": "3d7b8bb1-4bf4-4ab5-89c8-46573d75a83a",
   "metadata": {
    "tags": []
   },
   "outputs": [
    {
     "name": "stdout",
     "output_type": "stream",
     "text": [
      "{'supervisor': {'next': 'NoteTaker'}}\n",
      "---\n",
      "{'NoteTaker': {'messages': [HumanMessage(content='The outline for the poem \"Whispers of the Heart\" has been saved to disk, and the poem itself has been written to disk as well. The outline and the poem are now ready for further review or publication.', name='NoteTaker')]}}\n",
      "---\n",
      "{'supervisor': {'next': 'FINISH'}}\n",
      "---\n"
     ]
    }
   ],
   "source": [
    "for s in authoring_chain.stream(\n",
    "    \"Write an outline for poem and then write the poem to disk.\",\n",
    "    {\"recursion_limit\": 100},\n",
    "):\n",
    "    if \"__end__\" not in s:\n",
    "        print(s)\n",
    "        print(\"---\")"
   ]
  },
  {
   "cell_type": "code",
   "execution_count": 21,
   "id": "7a3eb2c1-969a-42fa-937c-39daf246c387",
   "metadata": {
    "ExecuteTime": {
     "end_time": "2024-05-15T08:19:55.454047Z",
     "start_time": "2024-05-15T08:19:53.725466Z"
    }
   },
   "outputs": [],
   "source": [
    "from langchain_core.messages import BaseMessage\n",
    "from langchain_openai.chat_models import ChatOpenAI\n",
    "\n",
    "llm = ChatOpenAI(model=\"gpt-4-1106-preview\")\n",
    "\n",
    "supervisor_node = create_team_supervisor(\n",
    "    llm,\n",
    "    \"You are a supervisor tasked with managing a conversation between the\"\n",
    "    \" following teams: {team_members}. Given the following user request,\"\n",
    "    \" respond with the worker to act next. Each worker will perform a\"\n",
    "    \" task and respond with their results and status.\"\n",
    "    \" You need to ensure that the content is not incomplete, if it is incomplete,\"\n",
    "    \" demand the content you think is necessary from the responsible agents,\"\n",
    "    \" after each iteration you need to concatenate all the content in a concise way.\"\n",
    "    \"When finished, respond with FINISH.\",\n",
    "    [\"ResearchTeam\", \"PaperWritingTeam\"],\n",
    ")"
   ]
  },
  {
   "cell_type": "code",
   "execution_count": 22,
   "id": "ca047a6d-7492-4b0b-bef6-56b29eb7936b",
   "metadata": {
    "tags": []
   },
   "outputs": [],
   "source": [
    "# Define the graph.\n",
    "super_graph = StateGraph(State)\n",
    "# First add the nodes, which will do the work\n",
    "super_graph.add_node(\"ResearchTeam\", get_last_message | research_chain | join_graph)\n",
    "super_graph.add_node(\n",
    "    \"PaperWritingTeam\", get_last_message | authoring_chain | join_graph\n",
    ")\n",
    "super_graph.add_node(\"supervisor\", supervisor_node)\n",
    "\n",
    "# Define the graph connections, which controls how the logic\n",
    "# propagates through the program\n",
    "super_graph.add_edge(\"ResearchTeam\", \"supervisor\")\n",
    "super_graph.add_edge(\"PaperWritingTeam\", \"supervisor\")\n",
    "super_graph.add_conditional_edges(\n",
    "    \"supervisor\",\n",
    "    lambda x: x[\"next\"],\n",
    "    {\n",
    "        \"PaperWritingTeam\": \"PaperWritingTeam\",\n",
    "        \"ResearchTeam\": \"ResearchTeam\",\n",
    "        \"FINISH\": END,\n",
    "    },\n",
    ")\n",
    "super_graph.add_edge(START, \"supervisor\")\n",
    "super_graph = super_graph.compile()"
   ]
  },
  {
   "cell_type": "code",
   "execution_count": 23,
   "id": "b847fe0e-cf2b-4e29-8c00-86b8eaf39e9e",
   "metadata": {
    "tags": []
   },
   "outputs": [
    {
     "data": {
      "image/jpeg": "[encoded data removed]",
      "text/plain": [
       "<IPython.core.display.Image object>"
      ]
     },
     "metadata": {},
     "output_type": "display_data"
    }
   ],
   "source": [
    "from IPython.display import Image, display\n",
    "\n",
    "display(Image(super_graph.get_graph().draw_mermaid_png()))"
   ]
  },
  {
   "cell_type": "code",
   "execution_count": 24,
   "id": "adee56fe-445f-42a2-b04a-f9f9c23418f6",
   "metadata": {
    "tags": []
   },
   "outputs": [
    {
     "name": "stdout",
     "output_type": "stream",
     "text": [
      "{'supervisor': {'next': 'ResearchTeam'}}\n",
      "---\n",
      "{'ResearchTeam': {'messages': [HumanMessage(content=\"Title: The Azure Canopy: Understanding Why the Sky is Blue\\n\\nThe sky's signature blue hue, a canvas that has inspired poets and puzzled scientists, is a phenomenon that is both simple and complex. It is a marvel of light and atmosphere that has fascinated humanity for millennia. In this essay, we will explore the scientific explanation behind the blueness of the sky, delving into concepts of light, atmospheric physics, and human perception.\\n\\nAt the heart of the sky's color lies the nature of sunlight and the atmosphere. Sunlight, often perceived as white or yellow, is a mixture of all colors of the visible spectrum. As this light makes its way through the Earth's atmosphere, it encounters air molecules, water droplets, and particulate matter. This is where the magic begins.\\n\\nThe scientific principle that explains the sky's color is known as Rayleigh scattering, named after the British physicist Lord Rayleigh who first described it in the 19th century. Rayleigh scattering occurs because the molecules in the atmosphere are much smaller than the wavelength of visible light. When sunlight enters the atmosphere, the shorter blue wavelengths are scattered in all directions by these air molecules more than the other colors because they travel as smaller, shorter waves. This scattering causes the sky to appear blue to an observer on the ground.\\n\\nAs the sun moves across the sky, the amount of atmosphere the light must pass through changes, and so does the extent of scattering. When the sun is high in the sky, blue light is scattered directly downwards, painting the sky in its characteristic azure. However, at sunrise or sunset, the light must pass through a greater thickness of atmosphere, scattering more of the longer wavelengths. This is why we witness the breathtaking palette of reds, oranges, and pinks of dawn and dusk.\\n\\nMoreover, the clarity of the sky also affects its color. On days with high pollution or when there are more particles in the air due to natural events like volcanic eruptions, the sky may take on a whitish or hazy appearance. This is because larger particles scatter more light and do not discriminate as much between different wavelengths.\\n\\nHuman biology also plays a role in the perception of the sky's color. Our eyes are more sensitive to blue light due to the specific distribution of cones, the photoreceptor cells responsible for color vision. This sensitivity further enhances the blue of the sky in our perception.\\n\\nInterestingly, the sky on other planets looks different due to variations in atmospheric composition and depth. For instance, the Martian sky can appear pinkish due to the iron oxide dust prevalent in its atmosphere.\\n\\nIn conclusion, the blue sky is a testament to the intricate interplay of sunlight, atmospheric physics, and human perception. Rayleigh scattering serves as the primary reason, but the story is enriched by the complexities of atmospheric conditions and the biology of our eyes. As we look up and admire the vast blue expanse, we can appreciate the confluence of factors that make our planet's diurnal backdrop a subject of endless fascination and beauty.\", name='Search')]}}\n",
      "---\n",
      "{'supervisor': {'next': 'FINISH'}}\n",
      "---\n"
     ]
    }
   ],
   "source": [
    "for s in super_graph.stream(\n",
    "    {\n",
    "        \"messages\": [\n",
    "            HumanMessage(\n",
    "                content=\"Write an essay talking about why the sky is blue\"\n",
    "            )\n",
    "        ],\n",
    "    },\n",
    "    {\"recursion_limit\": 150},\n",
    "):\n",
    "    if \"__end__\" not in s:\n",
    "        print(s)\n",
    "        print(\"---\")"
   ]
  },
  {
   "cell_type": "code",
   "execution_count": null,
   "id": "53f8ac8b-df47-4a4f-9356-96718cdb6cf3",
   "metadata": {},
   "outputs": [],
   "source": []
  }
 ],
 "metadata": {
  "kernelspec": {
   "display_name": ".conda-custom_python:Python",
   "language": "python",
   "name": "conda-env-.conda-custom_python-py"
  },
  "language_info": {
   "codemirror_mode": {
    "name": "ipython",
    "version": 3
   },
   "file_extension": ".py",
   "mimetype": "text/x-python",
   "name": "python",
   "nbconvert_exporter": "python",
   "pygments_lexer": "ipython3",
   "version": "3.11.0"
  }
 },
 "nbformat": 4,
 "nbformat_minor": 5
}
